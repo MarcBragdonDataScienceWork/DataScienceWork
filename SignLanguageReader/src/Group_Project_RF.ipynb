{
  "nbformat": 4,
  "nbformat_minor": 0,
  "metadata": {
    "colab": {
      "name": "Group_Project_RF.ipynb",
      "version": "0.3.2",
      "provenance": []
    },
    "kernelspec": {
      "name": "python3",
      "display_name": "Python 3"
    },
    "accelerator": "GPU"
  },
  "cells": [
    {
      "cell_type": "code",
      "metadata": {
        "id": "YiH3N0Q45uLf",
        "colab_type": "code",
        "outputId": "0520be8c-79d4-4105-f687-236693aaad67",
        "colab": {
          "base_uri": "https://localhost:8080/",
          "height": 109
        }
      },
      "source": [
        "import glob\n",
        "import log\n",
        "from sklearn.preprocessing import LabelEncoder\n",
        "import tensorflow as tf\n",
        "from sklearn.model_selection import train_test_split\n",
        "import pandas as pd\n",
        "import numpy as np\n",
        "import cv2\n",
        "import pandas as pd\n",
        "\n",
        "__author___ = \"Marc Bragdon\"\n",
        "\n",
        "'''\n",
        "Utility class to read in the images for the sign language project\n",
        "'''\n",
        "class ReadImages():\n",
        "\t'''\n",
        "\tDefault image size to resize to\n",
        "\t'''\n",
        "\timage_size = (100, 100)\n",
        "\tchannels = 3\n",
        "\tlogger = log.setup_custom_logger('Read-Images')\n",
        "\n",
        "\n",
        "\tdef make_letter_number(letter):\n",
        "\t\treturn ord(letter) - 96\n",
        "\t'''\n",
        "\tOur labels are letters, because of course they are so\n",
        "\twe need to encode them to numerics \n",
        "\t'''\n",
        "\tdef encode_labels(self, labels):\n",
        "\t\t# integer_encoded = []\n",
        "\t\t# for label in labels:\n",
        "\t\t# \tself.logger.debug(\"Encoding label {}\".format(label))\n",
        "\t\t# \tinteger_encoded.append(self.make_letter_number(chr(label)))\n",
        "\t\tlabel_encoder = LabelEncoder()\n",
        "\t\tinteger_encoded = label_encoder.fit_transform(labels)\t\t\n",
        "\t\treturn integer_encoded\n",
        "\t'''\t\n",
        "\tTakes a file path in and reads the image file names \n",
        "\tassigning a label based on what folder they are in as that\n",
        "\tis how our data is structured\n",
        "\tArgument : A file path with our images files in it\n",
        "\tReturns list of file paths and labels\n",
        "\t'''\n",
        "\tdef get_file_names_and_labels(self, file_path):\n",
        "\t\tlabels = []\n",
        "\t\tfile_paths = []\n",
        "\n",
        "\t\tlist_of_files = glob.iglob(file_path, recursive=True)\n",
        "\n",
        "\t\tfor file in list_of_files:\n",
        "\t\t\tself.logger.debug('Attempting to Read {}'.format(file))\n",
        "\t\t\tlabel = file.split('/')[2]\n",
        "\t\t\tfile_name = file.split('/')[3]\n",
        "\t\t\tself.logger.debug('Reading {} with label {}.'.format(file_name, label))\n",
        "\t\t\tlabels.append(label)\n",
        "\t\t\tfile_paths.append(file)\n",
        "\n",
        "\t\treturn labels, file_paths\n",
        "\n",
        "\t'''\n",
        "\tDecode and read image vector data from the actual images\n",
        "\tand also resize to the \"correct shape\" which we are still trying to \n",
        "\tfigure out\n",
        "\t'''\n",
        "\tdef read_and_preprocess_images(self, image_paths):\n",
        "\t\t#image_vectors = tf.zeros([len(image_paths),self.image_size[0], self.image_size[1], self.channels], dtype=tf.dtypes.int32)\n",
        "\t\t#images_vectors = np.empty([len(image_paths),self.image_size[0], self.image_size[1], self.channels])\n",
        "\t\timages_vectors = []\n",
        "\t\tfor path in image_paths:\n",
        "\t\t\tself.logger.debug('Attempting Read on : {}'.format(path))\n",
        "\t\t\t#Read image file\n",
        "\t\t\timage = tf.read_file(path)\n",
        "\t\t\t#Decode it\n",
        "\t\t\tself.logger.debug('Decoding PNG')\n",
        "\t\t\timage = tf.image.decode_png(image, channels=3)\n",
        "\t\t\t#resize it\n",
        "\t\t\tself.logger.debug('Resizing image to {}'.format(self.image_size))\n",
        "\t\t\timage = tf.image.resize(image, self.image_size)\n",
        "\t\t\tself.logger.debug('Normalizing image.')\n",
        "\t\t\timage /= 255\n",
        "\t\t\tself.logger.debug('Image Shape : {}'.format(image.shape))\n",
        "\t\t\tself.logger.debug('Concating Image {}'.format(path))\n",
        "\t\t\t#self.logger.debug(\"Image Tensor : {}\".format(image))\n",
        "\t\t\timages_vectors.append(image)\n",
        "\n",
        "\n",
        "\t\treturn images_vectors\n",
        "\t\t#return tf.convert_to_tensor(images_vectors)\n",
        "\t'''\n",
        "\tRead the images in as numpy arrays\n",
        "\t'''\n",
        "\tdef read_preprocess_images_numpy(self, image_paths):\n",
        "\t\timages_vectors = []\n",
        "\t\tfor path in image_paths:\n",
        "\t\t\tself.logger.debug('Attempting Read on : {}'.format(path))\n",
        "\t\t\t#Read image file\n",
        "\t\t\timg = cv2.imread(path)\t\t\n",
        "\t\t\t#resize it\n",
        "\t\t\tself.logger.debug('Resizing image to {}'.format(self.image_size))\n",
        "\t\t\timg = cv2.resize(img, self.image_size, interpolation=cv2.INTER_CUBIC)\n",
        "\t\t\t#change from BGR to RGB\n",
        "\t\t\timg = cv2.cvtColor(img, cv2.COLOR_BGR2RGB)\n",
        "\t\t\timg = img.astype(np.float32)\n",
        "\t\t\tself.logger.debug('Normalizing image.')\n",
        "\t\t\timg /= 255\n",
        "\t\t\tself.logger.debug('Image Shape : {}'.format(img.shape))\n",
        "\t\t\tself.logger.debug('Concating Image {}'.format(path))\n",
        "\t\t\t#self.logger.debug(\"Image Tensor : {}\".format(img))\n",
        "\t\t\timages_vectors.append(img)\n",
        "\t\treturn images_vectors\n",
        "\n",
        "\n",
        "\t'''\n",
        "\tHelper method to wrap it all together\n",
        "\t'''\t\n",
        "\tdef process_image_wrapper(self, file_path, test_train_split=0.1):\n",
        "\t\tself.logger.info(\"Getting File Names\")\n",
        "\t\tlabels, image_paths = self.get_file_names_and_labels(file_path)\n",
        "\t\tself.logger.info(\"Encoding Labels\")\n",
        "\t\tlabels = self.encode_labels(labels)\n",
        "\t\tself.logger.info(\"Processing Images\")\n",
        "\t\timages = self.read_preprocess_images_numpy(image_paths)\n",
        "\t\tself.logger.info(\"Completed Preprocess\")\n",
        "\t\ttrain_images, test_images, train_labels, test_labels = train_test_split(images, labels, test_size = test_train_split, random_state = 3)\t\n",
        "\n",
        "\t\treturn np.asarray(train_images), np.asarray(test_images), train_labels, test_labels\n",
        "\n",
        "\tdef read_pixel_csv(self, file_path, test_train_split=0.1, reshape=False):\n",
        "\t\tself.logger.info(\"Reading Data File : {}\".format(file_path))\n",
        "\t\tdata = pd.read_csv(file_path)\n",
        "\t\tlabels = np.array(data['label'])\n",
        "\t\n",
        "\t\tfeatures = data.drop('label', axis=1)\n",
        "\t\t#Keep a list of feature names\n",
        "\t\tfeature_list = list(features.columns)\n",
        "\n",
        "\t\tfeatures = np.array(features)\n",
        "\t\t\n",
        "\t\tif(reshape):\n",
        "\t\t\tfeatures = features.reshape(-1, 28, 28, 1)\n",
        "\n",
        "\t\ttrain_features, test_features, train_labels, test_labels = train_test_split(features, labels, test_size = test_train_split, random_state = 3)\t\n",
        "\t\t\n",
        "\t\ttrain_features = train_features / 255.0\n",
        "\t\ttest_features = test_features / 255.0\n",
        "\t\treturn train_features, test_features, train_labels, test_labels, feature_list\n",
        "\t\t#return tf.data.Dataset.from_tensor_slices((labels, images))\n",
        "\t\t#return labels, images\n",
        "data_dir = './sign_mnist_train.csv'\n",
        "read_images = ReadImages()\n",
        "\n",
        "train_features, test_features, train_labels, test_labels, feature_list= read_images.read_pixel_csv(data_dir, reshape=False)\n",
        "\n",
        "print(train_features.shape)\n",
        "print(train_labels.shape)"
      ],
      "execution_count": 7,
      "outputs": [
        {
          "output_type": "stream",
          "text": [
            "2019-09-05 00:56:51,612 - INFO - <ipython-input-7-8daddc2ea04f> - Reading Data File : ./sign_mnist_train.csv\n",
            "2019-09-05 00:56:51,612 - INFO - <ipython-input-7-8daddc2ea04f> - Reading Data File : ./sign_mnist_train.csv\n",
            "I0905 00:56:51.612504 139642066749312 <ipython-input-7-8daddc2ea04f>:131] Reading Data File : ./sign_mnist_train.csv\n"
          ],
          "name": "stderr"
        },
        {
          "output_type": "stream",
          "text": [
            "(24709, 784)\n",
            "(24709,)\n"
          ],
          "name": "stdout"
        }
      ]
    },
    {
      "cell_type": "code",
      "metadata": {
        "id": "LbJYE_HGAxgJ",
        "colab_type": "code",
        "colab": {
          "base_uri": "https://localhost:8080/",
          "height": 146
        },
        "outputId": "d12b2fbe-a95d-43ff-a539-991a902a6a32"
      },
      "source": [
        "#Load libraries\n",
        "from sklearn.ensemble import RandomForestClassifier\n",
        "from sklearn.neural_network import MLPClassifier\n",
        "from sklearn.metrics import accuracy_score\n",
        "\n",
        "#Train data\n",
        "rfmodel = RandomForestClassifier(n_estimators=64, n_jobs=-1)\n",
        "rfmodel.fit(train_features, train_labels)\n"
      ],
      "execution_count": 9,
      "outputs": [
        {
          "output_type": "execute_result",
          "data": {
            "text/plain": [
              "RandomForestClassifier(bootstrap=True, class_weight=None, criterion='gini',\n",
              "                       max_depth=None, max_features='auto', max_leaf_nodes=None,\n",
              "                       min_impurity_decrease=0.0, min_impurity_split=None,\n",
              "                       min_samples_leaf=1, min_samples_split=2,\n",
              "                       min_weight_fraction_leaf=0.0, n_estimators=64, n_jobs=-1,\n",
              "                       oob_score=False, random_state=None, verbose=0,\n",
              "                       warm_start=False)"
            ]
          },
          "metadata": {
            "tags": []
          },
          "execution_count": 9
        }
      ]
    },
    {
      "cell_type": "code",
      "metadata": {
        "id": "EXlMDZ_r7tXz",
        "colab_type": "code",
        "colab": {
          "base_uri": "https://localhost:8080/",
          "height": 35
        },
        "outputId": "c7ed990e-9a4a-48a8-d75b-1b77b6e9ea0a"
      },
      "source": [
        "#Apply model to testing data and print accuracy score\n",
        "rfpredict = rfmodel.predict(test_features)\n",
        "print(accuracy_score(test_labels, rfpredict))"
      ],
      "execution_count": 12,
      "outputs": [
        {
          "output_type": "stream",
          "text": [
            "0.9981791697013839\n"
          ],
          "name": "stdout"
        }
      ]
    }
  ]
}